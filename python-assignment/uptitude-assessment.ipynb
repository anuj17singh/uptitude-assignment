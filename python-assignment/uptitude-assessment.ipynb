{
 "cells": [
  {
   "cell_type": "code",
   "execution_count": 1,
   "id": "d3b81993",
   "metadata": {},
   "outputs": [
    {
     "name": "stdout",
     "output_type": "stream",
     "text": [
      "Requirement already satisfied: pandas in c:\\users\\dell\\appdata\\local\\programs\\python\\python311\\lib\\site-packages (1.5.3)\n",
      "Requirement already satisfied: python-dateutil>=2.8.1 in c:\\users\\dell\\appdata\\local\\programs\\python\\python311\\lib\\site-packages (from pandas) (2.8.2)\n",
      "Requirement already satisfied: pytz>=2020.1 in c:\\users\\dell\\appdata\\local\\programs\\python\\python311\\lib\\site-packages (from pandas) (2022.7.1)\n",
      "Requirement already satisfied: numpy>=1.21.0 in c:\\users\\dell\\appdata\\local\\programs\\python\\python311\\lib\\site-packages (from pandas) (1.24.1)\n",
      "Requirement already satisfied: six>=1.5 in c:\\users\\dell\\appdata\\local\\programs\\python\\python311\\lib\\site-packages (from python-dateutil>=2.8.1->pandas) (1.16.0)\n",
      "Note: you may need to restart the kernel to use updated packages.\n"
     ]
    }
   ],
   "source": [
    "pip install pandas"
   ]
  },
  {
   "cell_type": "code",
   "execution_count": 2,
   "id": "bf828943",
   "metadata": {},
   "outputs": [
    {
     "name": "stdout",
     "output_type": "stream",
     "text": [
      "Requirement already satisfied: openpyxl in c:\\users\\dell\\appdata\\local\\programs\\python\\python311\\lib\\site-packages (3.0.10)\n",
      "Requirement already satisfied: et-xmlfile in c:\\users\\dell\\appdata\\local\\programs\\python\\python311\\lib\\site-packages (from openpyxl) (1.1.0)\n",
      "Note: you may need to restart the kernel to use updated packages.\n"
     ]
    }
   ],
   "source": [
    "pip install openpyxl"
   ]
  },
  {
   "cell_type": "code",
   "execution_count": 3,
   "id": "8c929c45",
   "metadata": {},
   "outputs": [],
   "source": [
    "import pandas as pd\n",
    "from datetime import datetime as dt"
   ]
  },
  {
   "cell_type": "code",
   "execution_count": 4,
   "id": "7211ca0f",
   "metadata": {},
   "outputs": [],
   "source": [
    "# this function converts the range of operational days to a list of daysofweek numbers\n",
    "def get_days_of_week(days):\n",
    "    days_words_to_num_mapping = {'Mon': 0, 'Tue': 1, 'Wed': 2, 'Thu': 3, 'Fri': 4, 'Sat': 5, 'Sun': 6}\n",
    "    days_in_numbers = []\n",
    "    day_ranges_list = days.split(',')\n",
    "    for day_range in day_ranges_list:\n",
    "        days_in_words = day_range.split('-')\n",
    "        if len(days_in_words) < 1:\n",
    "            return None\n",
    "        elif len(days_in_words) == 1:\n",
    "            days_in_numbers.append(days_words_to_num_mapping[days_in_words[0].replace(\" \",\"\")])\n",
    "        else:\n",
    "            days_in_numbers.extend(range(days_words_to_num_mapping[days_in_words[0].replace(\" \",\"\")], days_words_to_num_mapping[days_in_words[1].replace(\" \",\"\")]))\n",
    "            days_in_numbers.append(days_words_to_num_mapping[days_in_words[1].replace(\" \",\"\")])\n",
    "    return days_in_numbers"
   ]
  },
  {
   "cell_type": "code",
   "execution_count": 21,
   "id": "3c556a6b",
   "metadata": {},
   "outputs": [],
   "source": [
    "def get_preprocessed_df(restaurant_sheet):\n",
    "#     separating multiple, 'slash-separated' timings for a single restaurant\n",
    "    restaurant_sheet.operational_timing=restaurant_sheet.operational_timing.str.split('/')\n",
    "    processed_df = restaurant_sheet.explode('operational_timing')\n",
    "    \n",
    "#     extracting the operational days from the time field\n",
    "    processed_df['days'] = processed_df.operational_timing.str.replace('\\d{1,2}(?::\\d{2})? [ap]m - \\d{1,2}(?::\\d{2})? [ap]m', '', regex = True)\n",
    "    processed_df.days = processed_df.days.str.strip()\n",
    "    \n",
    "#     extracting the range(s) of operational days from the time field \n",
    "    processed_df['timings'] = [a.replace(b, '').strip() for a, b in zip(processed_df['operational_timing'], processed_df['days'])]\n",
    "    processed_df[\"timings\"] = processed_df.apply(lambda x: x[\"operational_timing\"].replace(x[\"days\"], \"\").strip(), axis=1)\n",
    "    \n",
    "#     extracting the opening and closing hours from the time field\n",
    "    processed_df[['opens_from', 'closes_at']] = processed_df.timings.apply(lambda x: pd.Series(str(x).split(\"-\")))\n",
    "    \n",
    "#     extracting the operational days as list of daysofweek numbers\n",
    "    processed_df['days_in_numbers'] = processed_df['days'].apply(get_days_of_week)\n",
    "    processed_df.opens_from = processed_df.opens_from.str.strip()\n",
    "    processed_df.closes_at = processed_df.closes_at.str.strip()\n",
    "    \n",
    "#     converting the opening and closing hours to 24 hour format\n",
    "    processed_df['opens_from_24h'] = pd.to_datetime(processed_df['opens_from'], format = '%I:%M %p', errors=\"coerce\").fillna(pd.to_datetime(processed_df['opens_from'], format=\"%I %p\", errors=\"coerce\")).dt.time\n",
    "    processed_df['closes_at_24h'] = pd.to_datetime(processed_df['closes_at'], format = '%I:%M %p', errors=\"coerce\").fillna(pd.to_datetime(processed_df['closes_at'], format=\"%I %p\", errors=\"coerce\")).dt.time\n",
    "    return processed_df"
   ]
  },
  {
   "cell_type": "code",
   "execution_count": 22,
   "id": "46826f2f",
   "metadata": {},
   "outputs": [],
   "source": [
    "def get_open_restaurants(filename, time_to_check):\n",
    "#     reading excel file with explicitly defined header  \n",
    "    column_names = ['restaurants','operational_timing']\n",
    "    restaurant_vs_timing = pd.read_excel(filename, header=None, names = column_names)\n",
    "    \n",
    "#     preprocessing operational timing field to simplify the values\n",
    "    preprocessed_df = get_preprocessed_df(restaurant_vs_timing)\n",
    "\n",
    "#     processing the input time of enquiry\n",
    "    day_to_check = pd.to_datetime(time_to_check, format='%Y-%m-%d %H:%M:%S').dayofweek\n",
    "    time_of_enquiry = pd.to_datetime(time_to_check, format='%Y-%m-%d %H:%M:%S').time()\n",
    "    \n",
    "#     fetching list of restaurants operational at given time\n",
    "    preprocessed_df['day_filter'] = preprocessed_df['days_in_numbers'].apply(lambda x: day_to_check in x)\n",
    "    nested_list_of_restaurants = preprocessed_df[['restaurants']][(preprocessed_df['day_filter']==True) & (time_of_enquiry<preprocessed_df['closes_at_24h']) & (time_of_enquiry>preprocessed_df['opens_from_24h'])].values.tolist()\n",
    "    return [item for sublist in nested_list_of_restaurants for item in sublist]"
   ]
  },
  {
   "cell_type": "code",
   "execution_count": 23,
   "id": "8f30e627",
   "metadata": {},
   "outputs": [],
   "source": [
    "filename = 'restaurants-opening-hour.xlsx'"
   ]
  },
  {
   "cell_type": "code",
   "execution_count": 24,
   "id": "2551e1a9",
   "metadata": {},
   "outputs": [
    {
     "data": {
      "text/plain": [
       "['Kushi Tsuru',\n",
       " 'Osakaya Restaurant',\n",
       " 'The Stinking Rose',\n",
       " \"McCormick & Kuleto's\",\n",
       " 'Mifune Restaurant',\n",
       " 'The Cheesecake Factory',\n",
       " 'New Delhi Indian Restaurant',\n",
       " 'Iroha Restaurant',\n",
       " 'Rose Pistola',\n",
       " \"Alioto's Restaurant\",\n",
       " 'Canton Seafood & Dim Sum Restaurant',\n",
       " 'All Season Restaurant',\n",
       " 'Bombay Indian Restaurant',\n",
       " \"Sam's Grill & Seafood Restaurant\",\n",
       " '2G Japanese Brasserie',\n",
       " 'Restaurant Lulu',\n",
       " 'Herbivore',\n",
       " 'Penang Garden',\n",
       " \"John's Grill\",\n",
       " 'Quan Bac',\n",
       " 'Burger Bar',\n",
       " 'Blu Restaurant',\n",
       " 'Shanghai China Restaurant',\n",
       " 'Tres',\n",
       " 'Isobune Sushi',\n",
       " 'Far East Cafe',\n",
       " 'Parallel 37',\n",
       " 'Bai Thong Thai Cuisine',\n",
       " 'Alhamra',\n",
       " \"Nick's Lighthouse\",\n",
       " 'Paragon Restaurant & Bar',\n",
       " 'Chili Lemon Garlic',\n",
       " 'Bow Hon Restaurant',\n",
       " 'San Dong House',\n",
       " \"Cesario's\",\n",
       " 'Colombini Italian Cafe Bistro',\n",
       " 'Sabella & La Torre',\n",
       " 'Soluna Cafe and Lounge',\n",
       " 'Tong Palace',\n",
       " 'India Garden Restaurant',\n",
       " 'Sapporo-Ya Japanese Restaurant',\n",
       " \"Santorini's Mediterranean Cuisine\",\n",
       " 'Kyoto Sushi']"
      ]
     },
     "execution_count": 24,
     "metadata": {},
     "output_type": "execute_result"
    }
   ],
   "source": [
    "get_open_restaurants(filename, '2023-01-24 16:17:48')"
   ]
  },
  {
   "cell_type": "code",
   "execution_count": null,
   "id": "9f65543c",
   "metadata": {},
   "outputs": [],
   "source": []
  }
 ],
 "metadata": {
  "kernelspec": {
   "display_name": "Python 3 (ipykernel)",
   "language": "python",
   "name": "python3"
  },
  "language_info": {
   "codemirror_mode": {
    "name": "ipython",
    "version": 3
   },
   "file_extension": ".py",
   "mimetype": "text/x-python",
   "name": "python",
   "nbconvert_exporter": "python",
   "pygments_lexer": "ipython3",
   "version": "3.11.1"
  }
 },
 "nbformat": 4,
 "nbformat_minor": 5
}
